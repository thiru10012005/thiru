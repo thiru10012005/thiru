{
 "cells": [
  {
   "cell_type": "code",
   "execution_count": 1,
   "id": "de71fbee-ff43-4cc0-ac22-a2cd10e651d6",
   "metadata": {},
   "outputs": [
    {
     "name": "stdin",
     "output_type": "stream",
     "text": [
      "enter the number 5\n"
     ]
    },
    {
     "name": "stdout",
     "output_type": "stream",
     "text": [
      "sum 10\n"
     ]
    }
   ],
   "source": [
    "n=int(input(\"enter the number\"))\n",
    "s=0\n",
    "for i in range(0,n):\n",
    "    s=s+i\n",
    "print(\"sum\",s)"
   ]
  },
  {
   "cell_type": "code",
   "execution_count": 5,
   "id": "ee43bced-7be4-407d-bd6f-4b5fb9647a9f",
   "metadata": {},
   "outputs": [
    {
     "name": "stdin",
     "output_type": "stream",
     "text": [
      "enter a number 1234\n"
     ]
    },
    {
     "name": "stdout",
     "output_type": "stream",
     "text": [
      "4321\n"
     ]
    }
   ],
   "source": [
    "n=int(input(\"enter a number\"))\n",
    "rev=0\n",
    "while(n>0):\n",
    "    r=n%10\n",
    "    rev=rev*10+r\n",
    "    n=n//10\n",
    "print(rev)"
   ]
  },
  {
   "cell_type": "code",
   "execution_count": 7,
   "id": "d2787f97-f15f-43e8-b866-7cf095e48c16",
   "metadata": {},
   "outputs": [
    {
     "name": "stdin",
     "output_type": "stream",
     "text": [
      "enter a number: 5\n"
     ]
    },
    {
     "name": "stdout",
     "output_type": "stream",
     "text": [
      "120\n"
     ]
    }
   ],
   "source": [
    "num=int(input(\"enter a number:\"))\n",
    "factorial=1\n",
    "for i in range(1,num+1):\n",
    "    factorial*=i\n",
    "print(factorial)"
   ]
  },
  {
   "cell_type": "code",
   "execution_count": 8,
   "id": "e2429fff-9250-42b9-96e8-965178c0850f",
   "metadata": {},
   "outputs": [
    {
     "name": "stdin",
     "output_type": "stream",
     "text": [
      "enter a number: 10\n"
     ]
    },
    {
     "name": "stdout",
     "output_type": "stream",
     "text": [
      "1\n",
      "2\n",
      "5\n",
      "10\n"
     ]
    }
   ],
   "source": [
    "n=int(input(\"enter a number:\"))\n",
    "for i in range(1,n+1):\n",
    "    if n%i==0:\n",
    "        print(i)"
   ]
  },
  {
   "cell_type": "code",
   "execution_count": 24,
   "id": "7bd7d183-d59c-40d8-9d6c-3b0c2c6079bc",
   "metadata": {},
   "outputs": [
    {
     "name": "stdin",
     "output_type": "stream",
     "text": [
      "enter a number: 12345\n"
     ]
    },
    {
     "name": "stdout",
     "output_type": "stream",
     "text": [
      "15\n"
     ]
    }
   ],
   "source": [
    "def sum_of_digits(n):\n",
    "     s = 0\n",
    "     while(n>0):\n",
    "         digit = n%10\n",
    "         s = s+digit\n",
    "         n = n//10\n",
    "     return s\n",
    "n = int(input(\"enter a number:\"))\n",
    "print(sum_of_digits(n))\n",
    "         "
   ]
  },
  {
   "cell_type": "code",
   "execution_count": 28,
   "id": "2fb2b5ef-5316-4d3e-b895-1716fe525587",
   "metadata": {},
   "outputs": [
    {
     "name": "stdin",
     "output_type": "stream",
     "text": [
      "enter a number: 8\n"
     ]
    },
    {
     "name": "stdout",
     "output_type": "stream",
     "text": [
      "[1, 2, 6, 24, 120, 720, 5040, 40320]\n"
     ]
    }
   ],
   "source": [
    "n=int(input(\"enter a number:\"))\n",
    "list=[]\n",
    "def thiru(n):\n",
    "    fact=1\n",
    "    for i in range(1,n+1):\n",
    "        fact*=i\n",
    "        list.append(fact)\n",
    "    return list\n",
    "print(thiru(n))\n"
   ]
  },
  {
   "cell_type": "code",
   "execution_count": 30,
   "id": "05a92fb8-a51d-4932-8362-d46b2cf70e11",
   "metadata": {},
   "outputs": [
    {
     "name": "stdin",
     "output_type": "stream",
     "text": [
      "enter a number: 10\n"
     ]
    },
    {
     "name": "stdout",
     "output_type": "stream",
     "text": [
      "[1, 2, 5, 10]\n"
     ]
    }
   ],
   "source": [
    "def factors(n):\n",
    "    factorlist=[]\n",
    "    for i in range(1,n+1):\n",
    "        if n%i==0:\n",
    "            factorlist.append(i)\n",
    "    return(factorlist)\n",
    "n=int(input(\"enter a number:\"))\n",
    "print(factors(n))"
   ]
  },
  {
   "cell_type": "code",
   "execution_count": 31,
   "id": "3a785c45-4bbc-48bb-98cb-774f2821b3e8",
   "metadata": {},
   "outputs": [
    {
     "name": "stdin",
     "output_type": "stream",
     "text": [
      "enter a number: 7\n"
     ]
    },
    {
     "name": "stdout",
     "output_type": "stream",
     "text": [
      "True\n"
     ]
    }
   ],
   "source": [
    "def prime(n):\n",
    "    return(factors(n)==[1,n])\n",
    "n=int(input(\"enter a number:\"))\n",
    "print(prime(n))"
   ]
  },
  {
   "cell_type": "code",
   "execution_count": 45,
   "id": "934d9080-1d54-49b1-8a99-925f647c1885",
   "metadata": {},
   "outputs": [
    {
     "ename": "TypeError",
     "evalue": "can only concatenate list (not \"int\") to list",
     "output_type": "error",
     "traceback": [
      "\u001b[1;31m---------------------------------------------------------------------------\u001b[0m",
      "\u001b[1;31mTypeError\u001b[0m                                 Traceback (most recent call last)",
      "Cell \u001b[1;32mIn[45], line 5\u001b[0m\n\u001b[0;32m      3\u001b[0m     \u001b[38;5;28;01mif\u001b[39;00m (prime(i)):\n\u001b[0;32m      4\u001b[0m         primelist\u001b[38;5;241m.\u001b[39mappend(i)\n\u001b[1;32m----> 5\u001b[0m \u001b[38;5;28mprint\u001b[39m(primelist)\n",
      "Cell \u001b[1;32mIn[35], line 3\u001b[0m, in \u001b[0;36mprint\u001b[1;34m(n)\u001b[0m\n\u001b[0;32m      2\u001b[0m \u001b[38;5;28;01mdef\u001b[39;00m \u001b[38;5;21mprint\u001b[39m(n):\n\u001b[1;32m----> 3\u001b[0m     \u001b[38;5;28;01mreturn\u001b[39;00m(factors(n)\u001b[38;5;241m==\u001b[39m[\u001b[38;5;241m50\u001b[39m,n])\n",
      "Cell \u001b[1;32mIn[30], line 3\u001b[0m, in \u001b[0;36mfactors\u001b[1;34m(n)\u001b[0m\n\u001b[0;32m      1\u001b[0m \u001b[38;5;28;01mdef\u001b[39;00m \u001b[38;5;21mfactors\u001b[39m(n):\n\u001b[0;32m      2\u001b[0m     factorlist\u001b[38;5;241m=\u001b[39m[]\n\u001b[1;32m----> 3\u001b[0m     \u001b[38;5;28;01mfor\u001b[39;00m i \u001b[38;5;129;01min\u001b[39;00m \u001b[38;5;28mrange\u001b[39m(\u001b[38;5;241m1\u001b[39m,n\u001b[38;5;241m+\u001b[39m\u001b[38;5;241m1\u001b[39m):\n\u001b[0;32m      4\u001b[0m         \u001b[38;5;28;01mif\u001b[39;00m n\u001b[38;5;241m%\u001b[39mi\u001b[38;5;241m==\u001b[39m\u001b[38;5;241m0\u001b[39m:\n\u001b[0;32m      5\u001b[0m             factorlist\u001b[38;5;241m.\u001b[39mappend(i)\n",
      "\u001b[1;31mTypeError\u001b[0m: can only concatenate list (not \"int\") to list"
     ]
    }
   ],
   "source": [
    "primelist=[]\n",
    "for i in range(1,101):\n",
    "    if (prime(i)):\n",
    "        primelist.append(i)\n",
    "print(primelist)"
   ]
  },
  {
   "cell_type": "code",
   "execution_count": null,
   "id": "22a95cab-5f32-403e-8c59-985d4c84f2c6",
   "metadata": {},
   "outputs": [],
   "source": []
  }
 ],
 "metadata": {
  "kernelspec": {
   "display_name": "Python 3 (ipykernel)",
   "language": "python",
   "name": "python3"
  },
  "language_info": {
   "codemirror_mode": {
    "name": "ipython",
    "version": 3
   },
   "file_extension": ".py",
   "mimetype": "text/x-python",
   "name": "python",
   "nbconvert_exporter": "python",
   "pygments_lexer": "ipython3",
   "version": "3.12.7"
  }
 },
 "nbformat": 4,
 "nbformat_minor": 5
}
